{
 "cells": [
  {
   "cell_type": "code",
   "execution_count": 218,
   "id": "d855a9a3",
   "metadata": {},
   "outputs": [],
   "source": [
    "#Import the neccessary Libraries\n",
    "import pandas as pd\n",
    "import numpy as np\n",
    "import matplotlib.pyplot as plt\n",
    "import seaborn as sns"
   ]
  },
  {
   "cell_type": "code",
   "execution_count": 219,
   "id": "fc4b0ca4",
   "metadata": {},
   "outputs": [],
   "source": [
    "#Reading the data\n",
    "data = pd.read_csv(\"Test2_dataset.csv\")\n",
    "#data = pd.read_csv(\"data.csv\")"
   ]
  },
  {
   "cell_type": "code",
   "execution_count": 220,
   "id": "8de21174",
   "metadata": {},
   "outputs": [
    {
     "data": {
      "text/html": [
       "<div>\n",
       "<style scoped>\n",
       "    .dataframe tbody tr th:only-of-type {\n",
       "        vertical-align: middle;\n",
       "    }\n",
       "\n",
       "    .dataframe tbody tr th {\n",
       "        vertical-align: top;\n",
       "    }\n",
       "\n",
       "    .dataframe thead th {\n",
       "        text-align: right;\n",
       "    }\n",
       "</style>\n",
       "<table border=\"1\" class=\"dataframe\">\n",
       "  <thead>\n",
       "    <tr style=\"text-align: right;\">\n",
       "      <th></th>\n",
       "      <th>Pid</th>\n",
       "      <th>diagnosis</th>\n",
       "      <th>radius_mean</th>\n",
       "      <th>texture_mean</th>\n",
       "      <th>perimeter_mean</th>\n",
       "      <th>area_mean</th>\n",
       "      <th>smoothness_mean</th>\n",
       "      <th>compactness_mean</th>\n",
       "      <th>concavity_mean</th>\n",
       "      <th>concave points_mean</th>\n",
       "      <th>...</th>\n",
       "      <th>radius_worst</th>\n",
       "      <th>texture_worst</th>\n",
       "      <th>perimeter_worst</th>\n",
       "      <th>area_worst</th>\n",
       "      <th>smoothness_worst</th>\n",
       "      <th>compactness_worst</th>\n",
       "      <th>concavity_worst</th>\n",
       "      <th>concave points_worst</th>\n",
       "      <th>symmetry_worst</th>\n",
       "      <th>fractal_dimension_worst</th>\n",
       "    </tr>\n",
       "  </thead>\n",
       "  <tbody>\n",
       "    <tr>\n",
       "      <th>0</th>\n",
       "      <td>8670</td>\n",
       "      <td>M</td>\n",
       "      <td>15.46</td>\n",
       "      <td>19.48</td>\n",
       "      <td>101.70</td>\n",
       "      <td>748.9</td>\n",
       "      <td>0.10920</td>\n",
       "      <td>0.12230</td>\n",
       "      <td>0.14660</td>\n",
       "      <td>0.08087</td>\n",
       "      <td>...</td>\n",
       "      <td>19.26</td>\n",
       "      <td>26.00</td>\n",
       "      <td>124.90</td>\n",
       "      <td>1156.0</td>\n",
       "      <td>0.15460</td>\n",
       "      <td>0.2394</td>\n",
       "      <td>0.3791</td>\n",
       "      <td>0.15140</td>\n",
       "      <td>0.2837</td>\n",
       "      <td>0.08019</td>\n",
       "    </tr>\n",
       "    <tr>\n",
       "      <th>1</th>\n",
       "      <td>8913</td>\n",
       "      <td>B</td>\n",
       "      <td>12.89</td>\n",
       "      <td>13.12</td>\n",
       "      <td>81.89</td>\n",
       "      <td>515.9</td>\n",
       "      <td>0.06955</td>\n",
       "      <td>0.03729</td>\n",
       "      <td>0.02260</td>\n",
       "      <td>0.01171</td>\n",
       "      <td>...</td>\n",
       "      <td>13.62</td>\n",
       "      <td>15.54</td>\n",
       "      <td>87.40</td>\n",
       "      <td>577.0</td>\n",
       "      <td>0.09616</td>\n",
       "      <td>0.1147</td>\n",
       "      <td>0.1186</td>\n",
       "      <td>0.05366</td>\n",
       "      <td>0.2309</td>\n",
       "      <td>0.06915</td>\n",
       "    </tr>\n",
       "    <tr>\n",
       "      <th>2</th>\n",
       "      <td>8915</td>\n",
       "      <td>B</td>\n",
       "      <td>14.96</td>\n",
       "      <td>19.10</td>\n",
       "      <td>97.03</td>\n",
       "      <td>687.3</td>\n",
       "      <td>0.08992</td>\n",
       "      <td>0.09823</td>\n",
       "      <td>0.05940</td>\n",
       "      <td>0.04819</td>\n",
       "      <td>...</td>\n",
       "      <td>16.25</td>\n",
       "      <td>26.19</td>\n",
       "      <td>109.10</td>\n",
       "      <td>809.8</td>\n",
       "      <td>0.13130</td>\n",
       "      <td>0.3030</td>\n",
       "      <td>0.1804</td>\n",
       "      <td>0.14890</td>\n",
       "      <td>0.2962</td>\n",
       "      <td>0.08472</td>\n",
       "    </tr>\n",
       "    <tr>\n",
       "      <th>3</th>\n",
       "      <td>9047</td>\n",
       "      <td>B</td>\n",
       "      <td>12.94</td>\n",
       "      <td>16.17</td>\n",
       "      <td>83.18</td>\n",
       "      <td>507.6</td>\n",
       "      <td>0.09879</td>\n",
       "      <td>0.08836</td>\n",
       "      <td>0.03296</td>\n",
       "      <td>0.02390</td>\n",
       "      <td>...</td>\n",
       "      <td>13.86</td>\n",
       "      <td>23.02</td>\n",
       "      <td>89.69</td>\n",
       "      <td>580.9</td>\n",
       "      <td>0.11720</td>\n",
       "      <td>0.1958</td>\n",
       "      <td>0.1810</td>\n",
       "      <td>0.08388</td>\n",
       "      <td>0.3297</td>\n",
       "      <td>0.07834</td>\n",
       "    </tr>\n",
       "    <tr>\n",
       "      <th>4</th>\n",
       "      <td>85715</td>\n",
       "      <td>M</td>\n",
       "      <td>13.17</td>\n",
       "      <td>18.66</td>\n",
       "      <td>85.98</td>\n",
       "      <td>534.6</td>\n",
       "      <td>0.11580</td>\n",
       "      <td>0.12310</td>\n",
       "      <td>0.12260</td>\n",
       "      <td>0.07340</td>\n",
       "      <td>...</td>\n",
       "      <td>15.67</td>\n",
       "      <td>27.95</td>\n",
       "      <td>102.80</td>\n",
       "      <td>759.4</td>\n",
       "      <td>0.17860</td>\n",
       "      <td>0.4166</td>\n",
       "      <td>0.5006</td>\n",
       "      <td>0.20880</td>\n",
       "      <td>0.3900</td>\n",
       "      <td>0.11790</td>\n",
       "    </tr>\n",
       "  </tbody>\n",
       "</table>\n",
       "<p>5 rows × 32 columns</p>\n",
       "</div>"
      ],
      "text/plain": [
       "     Pid diagnosis  radius_mean  texture_mean  perimeter_mean  area_mean  \\\n",
       "0   8670         M        15.46         19.48          101.70      748.9   \n",
       "1   8913         B        12.89         13.12           81.89      515.9   \n",
       "2   8915         B        14.96         19.10           97.03      687.3   \n",
       "3   9047         B        12.94         16.17           83.18      507.6   \n",
       "4  85715         M        13.17         18.66           85.98      534.6   \n",
       "\n",
       "   smoothness_mean  compactness_mean  concavity_mean  concave points_mean  \\\n",
       "0          0.10920           0.12230         0.14660              0.08087   \n",
       "1          0.06955           0.03729         0.02260              0.01171   \n",
       "2          0.08992           0.09823         0.05940              0.04819   \n",
       "3          0.09879           0.08836         0.03296              0.02390   \n",
       "4          0.11580           0.12310         0.12260              0.07340   \n",
       "\n",
       "   ...  radius_worst  texture_worst  perimeter_worst  area_worst  \\\n",
       "0  ...         19.26          26.00           124.90      1156.0   \n",
       "1  ...         13.62          15.54            87.40       577.0   \n",
       "2  ...         16.25          26.19           109.10       809.8   \n",
       "3  ...         13.86          23.02            89.69       580.9   \n",
       "4  ...         15.67          27.95           102.80       759.4   \n",
       "\n",
       "   smoothness_worst  compactness_worst  concavity_worst  concave points_worst  \\\n",
       "0           0.15460             0.2394           0.3791               0.15140   \n",
       "1           0.09616             0.1147           0.1186               0.05366   \n",
       "2           0.13130             0.3030           0.1804               0.14890   \n",
       "3           0.11720             0.1958           0.1810               0.08388   \n",
       "4           0.17860             0.4166           0.5006               0.20880   \n",
       "\n",
       "   symmetry_worst  fractal_dimension_worst  \n",
       "0          0.2837                  0.08019  \n",
       "1          0.2309                  0.06915  \n",
       "2          0.2962                  0.08472  \n",
       "3          0.3297                  0.07834  \n",
       "4          0.3900                  0.11790  \n",
       "\n",
       "[5 rows x 32 columns]"
      ]
     },
     "execution_count": 220,
     "metadata": {},
     "output_type": "execute_result"
    }
   ],
   "source": [
    "#Printing the first few rows\n",
    "data.head()"
   ]
  },
  {
   "cell_type": "code",
   "execution_count": 221,
   "id": "f428dc44",
   "metadata": {},
   "outputs": [
    {
     "data": {
      "text/plain": [
       "(569, 32)"
      ]
     },
     "execution_count": 221,
     "metadata": {},
     "output_type": "execute_result"
    }
   ],
   "source": [
    "data.shape#Dimension of the data frame"
   ]
  },
  {
   "cell_type": "code",
   "execution_count": 222,
   "id": "53e706d0",
   "metadata": {},
   "outputs": [
    {
     "data": {
      "text/html": [
       "<div>\n",
       "<style scoped>\n",
       "    .dataframe tbody tr th:only-of-type {\n",
       "        vertical-align: middle;\n",
       "    }\n",
       "\n",
       "    .dataframe tbody tr th {\n",
       "        vertical-align: top;\n",
       "    }\n",
       "\n",
       "    .dataframe thead th {\n",
       "        text-align: right;\n",
       "    }\n",
       "</style>\n",
       "<table border=\"1\" class=\"dataframe\">\n",
       "  <thead>\n",
       "    <tr style=\"text-align: right;\">\n",
       "      <th></th>\n",
       "      <th>Pid</th>\n",
       "      <th>radius_mean</th>\n",
       "      <th>texture_mean</th>\n",
       "      <th>perimeter_mean</th>\n",
       "      <th>area_mean</th>\n",
       "      <th>smoothness_mean</th>\n",
       "      <th>compactness_mean</th>\n",
       "      <th>concavity_mean</th>\n",
       "      <th>concave points_mean</th>\n",
       "      <th>symmetry_mean</th>\n",
       "      <th>...</th>\n",
       "      <th>radius_worst</th>\n",
       "      <th>texture_worst</th>\n",
       "      <th>perimeter_worst</th>\n",
       "      <th>area_worst</th>\n",
       "      <th>smoothness_worst</th>\n",
       "      <th>compactness_worst</th>\n",
       "      <th>concavity_worst</th>\n",
       "      <th>concave points_worst</th>\n",
       "      <th>symmetry_worst</th>\n",
       "      <th>fractal_dimension_worst</th>\n",
       "    </tr>\n",
       "  </thead>\n",
       "  <tbody>\n",
       "    <tr>\n",
       "      <th>count</th>\n",
       "      <td>5.690000e+02</td>\n",
       "      <td>569.000000</td>\n",
       "      <td>569.000000</td>\n",
       "      <td>569.000000</td>\n",
       "      <td>569.000000</td>\n",
       "      <td>569.000000</td>\n",
       "      <td>569.000000</td>\n",
       "      <td>566.000000</td>\n",
       "      <td>566.000000</td>\n",
       "      <td>569.000000</td>\n",
       "      <td>...</td>\n",
       "      <td>569.000000</td>\n",
       "      <td>546.000000</td>\n",
       "      <td>569.000000</td>\n",
       "      <td>569.000000</td>\n",
       "      <td>569.000000</td>\n",
       "      <td>569.000000</td>\n",
       "      <td>569.000000</td>\n",
       "      <td>569.000000</td>\n",
       "      <td>569.000000</td>\n",
       "      <td>569.000000</td>\n",
       "    </tr>\n",
       "    <tr>\n",
       "      <th>mean</th>\n",
       "      <td>3.037183e+07</td>\n",
       "      <td>14.127292</td>\n",
       "      <td>19.289649</td>\n",
       "      <td>91.969033</td>\n",
       "      <td>654.889104</td>\n",
       "      <td>0.096360</td>\n",
       "      <td>0.104341</td>\n",
       "      <td>0.089270</td>\n",
       "      <td>0.049178</td>\n",
       "      <td>0.181162</td>\n",
       "      <td>...</td>\n",
       "      <td>16.269190</td>\n",
       "      <td>25.675385</td>\n",
       "      <td>107.261213</td>\n",
       "      <td>880.583128</td>\n",
       "      <td>0.132369</td>\n",
       "      <td>0.254265</td>\n",
       "      <td>0.272188</td>\n",
       "      <td>0.114606</td>\n",
       "      <td>0.290076</td>\n",
       "      <td>0.083946</td>\n",
       "    </tr>\n",
       "    <tr>\n",
       "      <th>std</th>\n",
       "      <td>1.250206e+08</td>\n",
       "      <td>3.524049</td>\n",
       "      <td>4.301036</td>\n",
       "      <td>24.298981</td>\n",
       "      <td>351.914129</td>\n",
       "      <td>0.014064</td>\n",
       "      <td>0.052813</td>\n",
       "      <td>0.079667</td>\n",
       "      <td>0.038741</td>\n",
       "      <td>0.027414</td>\n",
       "      <td>...</td>\n",
       "      <td>4.833242</td>\n",
       "      <td>6.156301</td>\n",
       "      <td>33.602542</td>\n",
       "      <td>569.356993</td>\n",
       "      <td>0.022832</td>\n",
       "      <td>0.157336</td>\n",
       "      <td>0.208624</td>\n",
       "      <td>0.065732</td>\n",
       "      <td>0.061867</td>\n",
       "      <td>0.018061</td>\n",
       "    </tr>\n",
       "    <tr>\n",
       "      <th>min</th>\n",
       "      <td>8.670000e+03</td>\n",
       "      <td>6.981000</td>\n",
       "      <td>9.710000</td>\n",
       "      <td>43.790000</td>\n",
       "      <td>143.500000</td>\n",
       "      <td>0.052630</td>\n",
       "      <td>0.019380</td>\n",
       "      <td>0.000000</td>\n",
       "      <td>0.000000</td>\n",
       "      <td>0.106000</td>\n",
       "      <td>...</td>\n",
       "      <td>7.930000</td>\n",
       "      <td>12.020000</td>\n",
       "      <td>50.410000</td>\n",
       "      <td>185.200000</td>\n",
       "      <td>0.071170</td>\n",
       "      <td>0.027290</td>\n",
       "      <td>0.000000</td>\n",
       "      <td>0.000000</td>\n",
       "      <td>0.156500</td>\n",
       "      <td>0.055040</td>\n",
       "    </tr>\n",
       "    <tr>\n",
       "      <th>25%</th>\n",
       "      <td>8.692180e+05</td>\n",
       "      <td>11.700000</td>\n",
       "      <td>16.170000</td>\n",
       "      <td>75.170000</td>\n",
       "      <td>420.300000</td>\n",
       "      <td>0.086370</td>\n",
       "      <td>0.064920</td>\n",
       "      <td>0.029680</td>\n",
       "      <td>0.020413</td>\n",
       "      <td>0.161900</td>\n",
       "      <td>...</td>\n",
       "      <td>13.010000</td>\n",
       "      <td>21.085000</td>\n",
       "      <td>84.110000</td>\n",
       "      <td>515.300000</td>\n",
       "      <td>0.116600</td>\n",
       "      <td>0.147200</td>\n",
       "      <td>0.114500</td>\n",
       "      <td>0.064930</td>\n",
       "      <td>0.250400</td>\n",
       "      <td>0.071460</td>\n",
       "    </tr>\n",
       "    <tr>\n",
       "      <th>50%</th>\n",
       "      <td>9.060240e+05</td>\n",
       "      <td>13.370000</td>\n",
       "      <td>18.840000</td>\n",
       "      <td>86.240000</td>\n",
       "      <td>551.100000</td>\n",
       "      <td>0.095870</td>\n",
       "      <td>0.092630</td>\n",
       "      <td>0.061680</td>\n",
       "      <td>0.033770</td>\n",
       "      <td>0.179200</td>\n",
       "      <td>...</td>\n",
       "      <td>14.970000</td>\n",
       "      <td>25.405000</td>\n",
       "      <td>97.660000</td>\n",
       "      <td>686.500000</td>\n",
       "      <td>0.131300</td>\n",
       "      <td>0.211900</td>\n",
       "      <td>0.226700</td>\n",
       "      <td>0.099930</td>\n",
       "      <td>0.282200</td>\n",
       "      <td>0.080040</td>\n",
       "    </tr>\n",
       "    <tr>\n",
       "      <th>75%</th>\n",
       "      <td>8.813129e+06</td>\n",
       "      <td>15.780000</td>\n",
       "      <td>21.800000</td>\n",
       "      <td>104.100000</td>\n",
       "      <td>782.700000</td>\n",
       "      <td>0.105300</td>\n",
       "      <td>0.130400</td>\n",
       "      <td>0.131600</td>\n",
       "      <td>0.074030</td>\n",
       "      <td>0.195700</td>\n",
       "      <td>...</td>\n",
       "      <td>18.790000</td>\n",
       "      <td>29.705000</td>\n",
       "      <td>125.400000</td>\n",
       "      <td>1084.000000</td>\n",
       "      <td>0.146000</td>\n",
       "      <td>0.339100</td>\n",
       "      <td>0.382900</td>\n",
       "      <td>0.161400</td>\n",
       "      <td>0.317900</td>\n",
       "      <td>0.092080</td>\n",
       "    </tr>\n",
       "    <tr>\n",
       "      <th>max</th>\n",
       "      <td>9.113205e+08</td>\n",
       "      <td>28.110000</td>\n",
       "      <td>39.280000</td>\n",
       "      <td>188.500000</td>\n",
       "      <td>2501.000000</td>\n",
       "      <td>0.163400</td>\n",
       "      <td>0.345400</td>\n",
       "      <td>0.426800</td>\n",
       "      <td>0.201200</td>\n",
       "      <td>0.304000</td>\n",
       "      <td>...</td>\n",
       "      <td>36.040000</td>\n",
       "      <td>49.540000</td>\n",
       "      <td>251.200000</td>\n",
       "      <td>4254.000000</td>\n",
       "      <td>0.222600</td>\n",
       "      <td>1.058000</td>\n",
       "      <td>1.252000</td>\n",
       "      <td>0.291000</td>\n",
       "      <td>0.663800</td>\n",
       "      <td>0.207500</td>\n",
       "    </tr>\n",
       "  </tbody>\n",
       "</table>\n",
       "<p>8 rows × 31 columns</p>\n",
       "</div>"
      ],
      "text/plain": [
       "                Pid  radius_mean  texture_mean  perimeter_mean    area_mean  \\\n",
       "count  5.690000e+02   569.000000    569.000000      569.000000   569.000000   \n",
       "mean   3.037183e+07    14.127292     19.289649       91.969033   654.889104   \n",
       "std    1.250206e+08     3.524049      4.301036       24.298981   351.914129   \n",
       "min    8.670000e+03     6.981000      9.710000       43.790000   143.500000   \n",
       "25%    8.692180e+05    11.700000     16.170000       75.170000   420.300000   \n",
       "50%    9.060240e+05    13.370000     18.840000       86.240000   551.100000   \n",
       "75%    8.813129e+06    15.780000     21.800000      104.100000   782.700000   \n",
       "max    9.113205e+08    28.110000     39.280000      188.500000  2501.000000   \n",
       "\n",
       "       smoothness_mean  compactness_mean  concavity_mean  concave points_mean  \\\n",
       "count       569.000000        569.000000      566.000000           566.000000   \n",
       "mean          0.096360          0.104341        0.089270             0.049178   \n",
       "std           0.014064          0.052813        0.079667             0.038741   \n",
       "min           0.052630          0.019380        0.000000             0.000000   \n",
       "25%           0.086370          0.064920        0.029680             0.020413   \n",
       "50%           0.095870          0.092630        0.061680             0.033770   \n",
       "75%           0.105300          0.130400        0.131600             0.074030   \n",
       "max           0.163400          0.345400        0.426800             0.201200   \n",
       "\n",
       "       symmetry_mean  ...  radius_worst  texture_worst  perimeter_worst  \\\n",
       "count     569.000000  ...    569.000000     546.000000       569.000000   \n",
       "mean        0.181162  ...     16.269190      25.675385       107.261213   \n",
       "std         0.027414  ...      4.833242       6.156301        33.602542   \n",
       "min         0.106000  ...      7.930000      12.020000        50.410000   \n",
       "25%         0.161900  ...     13.010000      21.085000        84.110000   \n",
       "50%         0.179200  ...     14.970000      25.405000        97.660000   \n",
       "75%         0.195700  ...     18.790000      29.705000       125.400000   \n",
       "max         0.304000  ...     36.040000      49.540000       251.200000   \n",
       "\n",
       "        area_worst  smoothness_worst  compactness_worst  concavity_worst  \\\n",
       "count   569.000000        569.000000         569.000000       569.000000   \n",
       "mean    880.583128          0.132369           0.254265         0.272188   \n",
       "std     569.356993          0.022832           0.157336         0.208624   \n",
       "min     185.200000          0.071170           0.027290         0.000000   \n",
       "25%     515.300000          0.116600           0.147200         0.114500   \n",
       "50%     686.500000          0.131300           0.211900         0.226700   \n",
       "75%    1084.000000          0.146000           0.339100         0.382900   \n",
       "max    4254.000000          0.222600           1.058000         1.252000   \n",
       "\n",
       "       concave points_worst  symmetry_worst  fractal_dimension_worst  \n",
       "count            569.000000      569.000000               569.000000  \n",
       "mean               0.114606        0.290076                 0.083946  \n",
       "std                0.065732        0.061867                 0.018061  \n",
       "min                0.000000        0.156500                 0.055040  \n",
       "25%                0.064930        0.250400                 0.071460  \n",
       "50%                0.099930        0.282200                 0.080040  \n",
       "75%                0.161400        0.317900                 0.092080  \n",
       "max                0.291000        0.663800                 0.207500  \n",
       "\n",
       "[8 rows x 31 columns]"
      ]
     },
     "execution_count": 222,
     "metadata": {},
     "output_type": "execute_result"
    }
   ],
   "source": [
    "data.describe()#Descriptive Statistics"
   ]
  },
  {
   "cell_type": "code",
   "execution_count": 223,
   "id": "99a85623",
   "metadata": {},
   "outputs": [
    {
     "name": "stdout",
     "output_type": "stream",
     "text": [
      "<class 'pandas.core.frame.DataFrame'>\n",
      "RangeIndex: 569 entries, 0 to 568\n",
      "Data columns (total 32 columns):\n",
      " #   Column                   Non-Null Count  Dtype  \n",
      "---  ------                   --------------  -----  \n",
      " 0   Pid                      569 non-null    int64  \n",
      " 1   diagnosis                569 non-null    object \n",
      " 2   radius_mean              569 non-null    float64\n",
      " 3   texture_mean             569 non-null    float64\n",
      " 4   perimeter_mean           569 non-null    float64\n",
      " 5   area_mean                569 non-null    float64\n",
      " 6   smoothness_mean          569 non-null    float64\n",
      " 7   compactness_mean         569 non-null    float64\n",
      " 8   concavity_mean           566 non-null    float64\n",
      " 9   concave points_mean      566 non-null    float64\n",
      " 10  symmetry_mean            569 non-null    float64\n",
      " 11  fractal_dimension_mean   569 non-null    float64\n",
      " 12  radius_se                569 non-null    float64\n",
      " 13  texture_se               569 non-null    float64\n",
      " 14  perimeter_se             569 non-null    float64\n",
      " 15  area_se                  569 non-null    float64\n",
      " 16  smoothness_se            569 non-null    float64\n",
      " 17  compactness_se           569 non-null    float64\n",
      " 18  concavity_se             566 non-null    float64\n",
      " 19  concave points_se        567 non-null    float64\n",
      " 20  symmetry_se              569 non-null    float64\n",
      " 21  fractal_dimension_se     569 non-null    float64\n",
      " 22  radius_worst             569 non-null    float64\n",
      " 23  texture_worst            546 non-null    float64\n",
      " 24  perimeter_worst          569 non-null    float64\n",
      " 25  area_worst               569 non-null    float64\n",
      " 26  smoothness_worst         569 non-null    float64\n",
      " 27  compactness_worst        569 non-null    float64\n",
      " 28  concavity_worst          569 non-null    float64\n",
      " 29  concave points_worst     569 non-null    float64\n",
      " 30  symmetry_worst           569 non-null    float64\n",
      " 31  fractal_dimension_worst  569 non-null    float64\n",
      "dtypes: float64(30), int64(1), object(1)\n",
      "memory usage: 142.4+ KB\n"
     ]
    }
   ],
   "source": [
    "data.info()#To see the every features data type"
   ]
  },
  {
   "cell_type": "code",
   "execution_count": 224,
   "id": "a54a962b",
   "metadata": {},
   "outputs": [
    {
     "data": {
      "text/plain": [
       "Pid                         0\n",
       "diagnosis                   0\n",
       "radius_mean                 0\n",
       "texture_mean                0\n",
       "perimeter_mean              0\n",
       "area_mean                   0\n",
       "smoothness_mean             0\n",
       "compactness_mean            0\n",
       "concavity_mean              3\n",
       "concave points_mean         3\n",
       "symmetry_mean               0\n",
       "fractal_dimension_mean      0\n",
       "radius_se                   0\n",
       "texture_se                  0\n",
       "perimeter_se                0\n",
       "area_se                     0\n",
       "smoothness_se               0\n",
       "compactness_se              0\n",
       "concavity_se                3\n",
       "concave points_se           2\n",
       "symmetry_se                 0\n",
       "fractal_dimension_se        0\n",
       "radius_worst                0\n",
       "texture_worst              23\n",
       "perimeter_worst             0\n",
       "area_worst                  0\n",
       "smoothness_worst            0\n",
       "compactness_worst           0\n",
       "concavity_worst             0\n",
       "concave points_worst        0\n",
       "symmetry_worst              0\n",
       "fractal_dimension_worst     0\n",
       "dtype: int64"
      ]
     },
     "execution_count": 224,
     "metadata": {},
     "output_type": "execute_result"
    }
   ],
   "source": [
    "#Checking the number of null values in every feature\n",
    "data.isnull().sum()"
   ]
  },
  {
   "cell_type": "code",
   "execution_count": 225,
   "id": "54a14ab2",
   "metadata": {},
   "outputs": [
    {
     "name": "stderr",
     "output_type": "stream",
     "text": [
      "C:\\Users\\user\\anaconda3\\lib\\site-packages\\seaborn\\distributions.py:2619: FutureWarning: `distplot` is a deprecated function and will be removed in a future version. Please adapt your code to use either `displot` (a figure-level function with similar flexibility) or `histplot` (an axes-level function for histograms).\n",
      "  warnings.warn(msg, FutureWarning)\n"
     ]
    },
    {
     "data": {
      "text/plain": [
       "<AxesSubplot:xlabel='radius_mean', ylabel='Density'>"
      ]
     },
     "execution_count": 225,
     "metadata": {},
     "output_type": "execute_result"
    },
    {
     "data": {
      "image/png": "[encoded data removed]",
      "text/plain": [
       "<Figure size 432x288 with 1 Axes>"
      ]
     },
     "metadata": {
      "needs_background": "light"
     },
     "output_type": "display_data"
    }
   ],
   "source": [
    "sns.distplot(data['radius_mean'])#Checking the data distribution of the feature'radius mean'"
   ]
  },
  {
   "cell_type": "code",
   "execution_count": 226,
   "id": "78f018b9",
   "metadata": {},
   "outputs": [
    {
     "name": "stderr",
     "output_type": "stream",
     "text": [
      "C:\\Users\\user\\anaconda3\\lib\\site-packages\\seaborn\\distributions.py:2619: FutureWarning: `distplot` is a deprecated function and will be removed in a future version. Please adapt your code to use either `displot` (a figure-level function with similar flexibility) or `histplot` (an axes-level function for histograms).\n",
      "  warnings.warn(msg, FutureWarning)\n"
     ]
    },
    {
     "data": {
      "text/plain": [
       "<AxesSubplot:xlabel='radius_mean', ylabel='Density'>"
      ]
     },
     "execution_count": 226,
     "metadata": {},
     "output_type": "execute_result"
    },
    {
     "data": {
      "image/png": "[encoded data removed]",
      "text/plain": [
       "<Figure size 432x288 with 1 Axes>"
      ]
     },
     "metadata": {
      "needs_background": "light"
     },
     "output_type": "display_data"
    }
   ],
   "source": [
    "radius_impute = data['radius_mean'].fillna(data['radius_mean'].mean())#Checking the data distribution of the feature 'radius mean' after imputing it with null values\n",
    "sns.distplot(data['radius_mean'])"
   ]
  },
  {
   "cell_type": "markdown",
   "id": "97196c2d",
   "metadata": {},
   "source": [
    "Inference: The distribution after imputing and before imputing does not have much difference."
   ]
  },
  {
   "cell_type": "code",
   "execution_count": 227,
   "id": "833eb012",
   "metadata": {},
   "outputs": [
    {
     "name": "stderr",
     "output_type": "stream",
     "text": [
      "C:\\Users\\user\\AppData\\Local\\Temp/ipykernel_9652/1374837672.py:1: FutureWarning: Dropping of nuisance columns in DataFrame reductions (with 'numeric_only=None') is deprecated; in a future version this will raise TypeError.  Select only valid columns before calling the reduction.\n",
      "  means = data.mean()#Getting the mean of every feature\n"
     ]
    }
   ],
   "source": [
    "means = data.mean()#Getting the mean of every feature"
   ]
  },
  {
   "cell_type": "code",
   "execution_count": 228,
   "id": "288317ce",
   "metadata": {},
   "outputs": [],
   "source": [
    "data.fillna(means,inplace=True)#Filling the null values with mean of the particulat feature"
   ]
  },
  {
   "cell_type": "code",
   "execution_count": 229,
   "id": "958ad2c5",
   "metadata": {},
   "outputs": [
    {
     "data": {
      "text/plain": [
       "Pid                        0\n",
       "diagnosis                  0\n",
       "radius_mean                0\n",
       "texture_mean               0\n",
       "perimeter_mean             0\n",
       "area_mean                  0\n",
       "smoothness_mean            0\n",
       "compactness_mean           0\n",
       "concavity_mean             0\n",
       "concave points_mean        0\n",
       "symmetry_mean              0\n",
       "fractal_dimension_mean     0\n",
       "radius_se                  0\n",
       "texture_se                 0\n",
       "perimeter_se               0\n",
       "area_se                    0\n",
       "smoothness_se              0\n",
       "compactness_se             0\n",
       "concavity_se               0\n",
       "concave points_se          0\n",
       "symmetry_se                0\n",
       "fractal_dimension_se       0\n",
       "radius_worst               0\n",
       "texture_worst              0\n",
       "perimeter_worst            0\n",
       "area_worst                 0\n",
       "smoothness_worst           0\n",
       "compactness_worst          0\n",
       "concavity_worst            0\n",
       "concave points_worst       0\n",
       "symmetry_worst             0\n",
       "fractal_dimension_worst    0\n",
       "dtype: int64"
      ]
     },
     "execution_count": 229,
     "metadata": {},
     "output_type": "execute_result"
    }
   ],
   "source": [
    "data.isnull().sum()"
   ]
  },
  {
   "cell_type": "code",
   "execution_count": 230,
   "id": "780eade5",
   "metadata": {},
   "outputs": [
    {
     "data": {
      "text/html": [
       "<div>\n",
       "<style scoped>\n",
       "    .dataframe tbody tr th:only-of-type {\n",
       "        vertical-align: middle;\n",
       "    }\n",
       "\n",
       "    .dataframe tbody tr th {\n",
       "        vertical-align: top;\n",
       "    }\n",
       "\n",
       "    .dataframe thead th {\n",
       "        text-align: right;\n",
       "    }\n",
       "</style>\n",
       "<table border=\"1\" class=\"dataframe\">\n",
       "  <thead>\n",
       "    <tr style=\"text-align: right;\">\n",
       "      <th></th>\n",
       "      <th>Pid</th>\n",
       "      <th>diagnosis</th>\n",
       "      <th>radius_mean</th>\n",
       "      <th>texture_mean</th>\n",
       "      <th>perimeter_mean</th>\n",
       "      <th>area_mean</th>\n",
       "      <th>smoothness_mean</th>\n",
       "      <th>compactness_mean</th>\n",
       "      <th>concavity_mean</th>\n",
       "      <th>concave points_mean</th>\n",
       "      <th>...</th>\n",
       "      <th>radius_worst</th>\n",
       "      <th>texture_worst</th>\n",
       "      <th>perimeter_worst</th>\n",
       "      <th>area_worst</th>\n",
       "      <th>smoothness_worst</th>\n",
       "      <th>compactness_worst</th>\n",
       "      <th>concavity_worst</th>\n",
       "      <th>concave points_worst</th>\n",
       "      <th>symmetry_worst</th>\n",
       "      <th>fractal_dimension_worst</th>\n",
       "    </tr>\n",
       "  </thead>\n",
       "  <tbody>\n",
       "    <tr>\n",
       "      <th>0</th>\n",
       "      <td>8670</td>\n",
       "      <td>M</td>\n",
       "      <td>15.46</td>\n",
       "      <td>19.48</td>\n",
       "      <td>101.70</td>\n",
       "      <td>748.9</td>\n",
       "      <td>0.10920</td>\n",
       "      <td>0.12230</td>\n",
       "      <td>0.14660</td>\n",
       "      <td>0.08087</td>\n",
       "      <td>...</td>\n",
       "      <td>19.26</td>\n",
       "      <td>26.00</td>\n",
       "      <td>124.90</td>\n",
       "      <td>1156.0</td>\n",
       "      <td>0.15460</td>\n",
       "      <td>0.2394</td>\n",
       "      <td>0.3791</td>\n",
       "      <td>0.15140</td>\n",
       "      <td>0.2837</td>\n",
       "      <td>0.08019</td>\n",
       "    </tr>\n",
       "    <tr>\n",
       "      <th>1</th>\n",
       "      <td>8913</td>\n",
       "      <td>B</td>\n",
       "      <td>12.89</td>\n",
       "      <td>13.12</td>\n",
       "      <td>81.89</td>\n",
       "      <td>515.9</td>\n",
       "      <td>0.06955</td>\n",
       "      <td>0.03729</td>\n",
       "      <td>0.02260</td>\n",
       "      <td>0.01171</td>\n",
       "      <td>...</td>\n",
       "      <td>13.62</td>\n",
       "      <td>15.54</td>\n",
       "      <td>87.40</td>\n",
       "      <td>577.0</td>\n",
       "      <td>0.09616</td>\n",
       "      <td>0.1147</td>\n",
       "      <td>0.1186</td>\n",
       "      <td>0.05366</td>\n",
       "      <td>0.2309</td>\n",
       "      <td>0.06915</td>\n",
       "    </tr>\n",
       "    <tr>\n",
       "      <th>2</th>\n",
       "      <td>8915</td>\n",
       "      <td>B</td>\n",
       "      <td>14.96</td>\n",
       "      <td>19.10</td>\n",
       "      <td>97.03</td>\n",
       "      <td>687.3</td>\n",
       "      <td>0.08992</td>\n",
       "      <td>0.09823</td>\n",
       "      <td>0.05940</td>\n",
       "      <td>0.04819</td>\n",
       "      <td>...</td>\n",
       "      <td>16.25</td>\n",
       "      <td>26.19</td>\n",
       "      <td>109.10</td>\n",
       "      <td>809.8</td>\n",
       "      <td>0.13130</td>\n",
       "      <td>0.3030</td>\n",
       "      <td>0.1804</td>\n",
       "      <td>0.14890</td>\n",
       "      <td>0.2962</td>\n",
       "      <td>0.08472</td>\n",
       "    </tr>\n",
       "    <tr>\n",
       "      <th>3</th>\n",
       "      <td>9047</td>\n",
       "      <td>B</td>\n",
       "      <td>12.94</td>\n",
       "      <td>16.17</td>\n",
       "      <td>83.18</td>\n",
       "      <td>507.6</td>\n",
       "      <td>0.09879</td>\n",
       "      <td>0.08836</td>\n",
       "      <td>0.03296</td>\n",
       "      <td>0.02390</td>\n",
       "      <td>...</td>\n",
       "      <td>13.86</td>\n",
       "      <td>23.02</td>\n",
       "      <td>89.69</td>\n",
       "      <td>580.9</td>\n",
       "      <td>0.11720</td>\n",
       "      <td>0.1958</td>\n",
       "      <td>0.1810</td>\n",
       "      <td>0.08388</td>\n",
       "      <td>0.3297</td>\n",
       "      <td>0.07834</td>\n",
       "    </tr>\n",
       "    <tr>\n",
       "      <th>4</th>\n",
       "      <td>85715</td>\n",
       "      <td>M</td>\n",
       "      <td>13.17</td>\n",
       "      <td>18.66</td>\n",
       "      <td>85.98</td>\n",
       "      <td>534.6</td>\n",
       "      <td>0.11580</td>\n",
       "      <td>0.12310</td>\n",
       "      <td>0.12260</td>\n",
       "      <td>0.07340</td>\n",
       "      <td>...</td>\n",
       "      <td>15.67</td>\n",
       "      <td>27.95</td>\n",
       "      <td>102.80</td>\n",
       "      <td>759.4</td>\n",
       "      <td>0.17860</td>\n",
       "      <td>0.4166</td>\n",
       "      <td>0.5006</td>\n",
       "      <td>0.20880</td>\n",
       "      <td>0.3900</td>\n",
       "      <td>0.11790</td>\n",
       "    </tr>\n",
       "  </tbody>\n",
       "</table>\n",
       "<p>5 rows × 32 columns</p>\n",
       "</div>"
      ],
      "text/plain": [
       "     Pid diagnosis  radius_mean  texture_mean  perimeter_mean  area_mean  \\\n",
       "0   8670         M        15.46         19.48          101.70      748.9   \n",
       "1   8913         B        12.89         13.12           81.89      515.9   \n",
       "2   8915         B        14.96         19.10           97.03      687.3   \n",
       "3   9047         B        12.94         16.17           83.18      507.6   \n",
       "4  85715         M        13.17         18.66           85.98      534.6   \n",
       "\n",
       "   smoothness_mean  compactness_mean  concavity_mean  concave points_mean  \\\n",
       "0          0.10920           0.12230         0.14660              0.08087   \n",
       "1          0.06955           0.03729         0.02260              0.01171   \n",
       "2          0.08992           0.09823         0.05940              0.04819   \n",
       "3          0.09879           0.08836         0.03296              0.02390   \n",
       "4          0.11580           0.12310         0.12260              0.07340   \n",
       "\n",
       "   ...  radius_worst  texture_worst  perimeter_worst  area_worst  \\\n",
       "0  ...         19.26          26.00           124.90      1156.0   \n",
       "1  ...         13.62          15.54            87.40       577.0   \n",
       "2  ...         16.25          26.19           109.10       809.8   \n",
       "3  ...         13.86          23.02            89.69       580.9   \n",
       "4  ...         15.67          27.95           102.80       759.4   \n",
       "\n",
       "   smoothness_worst  compactness_worst  concavity_worst  concave points_worst  \\\n",
       "0           0.15460             0.2394           0.3791               0.15140   \n",
       "1           0.09616             0.1147           0.1186               0.05366   \n",
       "2           0.13130             0.3030           0.1804               0.14890   \n",
       "3           0.11720             0.1958           0.1810               0.08388   \n",
       "4           0.17860             0.4166           0.5006               0.20880   \n",
       "\n",
       "   symmetry_worst  fractal_dimension_worst  \n",
       "0          0.2837                  0.08019  \n",
       "1          0.2309                  0.06915  \n",
       "2          0.2962                  0.08472  \n",
       "3          0.3297                  0.07834  \n",
       "4          0.3900                  0.11790  \n",
       "\n",
       "[5 rows x 32 columns]"
      ]
     },
     "execution_count": 230,
     "metadata": {},
     "output_type": "execute_result"
    }
   ],
   "source": [
    "data.head()"
   ]
  },
  {
   "cell_type": "code",
   "execution_count": 231,
   "id": "3a05565b",
   "metadata": {},
   "outputs": [
    {
     "name": "stderr",
     "output_type": "stream",
     "text": [
      "C:\\Users\\user\\AppData\\Local\\Temp/ipykernel_9652/531903386.py:1: FutureWarning: Dropping of nuisance columns in DataFrame reductions (with 'numeric_only=None') is deprecated; in a future version this will raise TypeError.  Select only valid columns before calling the reduction.\n",
      "  data.mean()\n"
     ]
    },
    {
     "data": {
      "text/plain": [
       "Pid                        3.037183e+07\n",
       "radius_mean                1.412729e+01\n",
       "texture_mean               1.928965e+01\n",
       "perimeter_mean             9.196903e+01\n",
       "area_mean                  6.548891e+02\n",
       "smoothness_mean            9.636028e-02\n",
       "compactness_mean           1.043410e-01\n",
       "concavity_mean             8.926998e-02\n",
       "concave points_mean        4.917843e-02\n",
       "symmetry_mean              1.811619e-01\n",
       "fractal_dimension_mean     6.279761e-02\n",
       "radius_se                  4.051721e-01\n",
       "texture_se                 1.216853e+00\n",
       "perimeter_se               2.866059e+00\n",
       "area_se                    4.033708e+01\n",
       "smoothness_se              7.040979e-03\n",
       "compactness_se             2.547814e-02\n",
       "concavity_se               3.205339e-02\n",
       "concave points_se          1.183775e-02\n",
       "symmetry_se                2.054230e-02\n",
       "fractal_dimension_se       3.794904e-03\n",
       "radius_worst               1.626919e+01\n",
       "texture_worst              2.567538e+01\n",
       "perimeter_worst            1.072612e+02\n",
       "area_worst                 8.805831e+02\n",
       "smoothness_worst           1.323686e-01\n",
       "compactness_worst          2.542650e-01\n",
       "concavity_worst            2.721885e-01\n",
       "concave points_worst       1.146062e-01\n",
       "symmetry_worst             2.900756e-01\n",
       "fractal_dimension_worst    8.394582e-02\n",
       "dtype: float64"
      ]
     },
     "execution_count": 231,
     "metadata": {},
     "output_type": "execute_result"
    }
   ],
   "source": [
    "data.mean()"
   ]
  },
  {
   "cell_type": "code",
   "execution_count": 232,
   "id": "718d3a32",
   "metadata": {},
   "outputs": [
    {
     "name": "stderr",
     "output_type": "stream",
     "text": [
      "C:\\Users\\user\\AppData\\Local\\Temp/ipykernel_9652/2723740006.py:1: FutureWarning: Dropping of nuisance columns in DataFrame reductions (with 'numeric_only=None') is deprecated; in a future version this will raise TypeError.  Select only valid columns before calling the reduction.\n",
      "  data.std()\n"
     ]
    },
    {
     "data": {
      "text/plain": [
       "Pid                        1.250206e+08\n",
       "radius_mean                3.524049e+00\n",
       "texture_mean               4.301036e+00\n",
       "perimeter_mean             2.429898e+01\n",
       "area_mean                  3.519141e+02\n",
       "smoothness_mean            1.406413e-02\n",
       "compactness_mean           5.281276e-02\n",
       "concavity_mean             7.945678e-02\n",
       "concave points_mean        3.863877e-02\n",
       "symmetry_mean              2.741428e-02\n",
       "fractal_dimension_mean     7.060363e-03\n",
       "radius_se                  2.773127e-01\n",
       "texture_se                 5.516484e-01\n",
       "perimeter_se               2.021855e+00\n",
       "area_se                    4.549101e+01\n",
       "smoothness_se              3.002518e-03\n",
       "compactness_se             1.790818e-02\n",
       "concavity_se               3.010559e-02\n",
       "concave points_se          6.130312e-03\n",
       "symmetry_se                8.266372e-03\n",
       "fractal_dimension_se       2.646071e-03\n",
       "radius_worst               4.833242e+00\n",
       "texture_worst              6.030370e+00\n",
       "perimeter_worst            3.360254e+01\n",
       "area_worst                 5.693570e+02\n",
       "smoothness_worst           2.283243e-02\n",
       "compactness_worst          1.573365e-01\n",
       "concavity_worst            2.086243e-01\n",
       "concave points_worst       6.573234e-02\n",
       "symmetry_worst             6.186747e-02\n",
       "fractal_dimension_worst    1.806127e-02\n",
       "dtype: float64"
      ]
     },
     "execution_count": 232,
     "metadata": {},
     "output_type": "execute_result"
    }
   ],
   "source": [
    "data.std()"
   ]
  },
  {
   "cell_type": "code",
   "execution_count": 233,
   "id": "08511a5e",
   "metadata": {},
   "outputs": [
    {
     "data": {
      "text/plain": [
       "2.8169442151606443"
      ]
     },
     "execution_count": 233,
     "metadata": {},
     "output_type": "execute_result"
    }
   ],
   "source": [
    "from statsmodels import robust#To use robust mean absolute deviation\n",
    "robust.scale.mad(data.radius_mean)"
   ]
  },
  {
   "cell_type": "code",
   "execution_count": 234,
   "id": "107c6994",
   "metadata": {},
   "outputs": [
    {
     "data": {
      "text/plain": [
       "Pid                        7.943911e+06\n",
       "radius_mean                4.080000e+00\n",
       "texture_mean               5.630000e+00\n",
       "perimeter_mean             2.893000e+01\n",
       "area_mean                  3.624000e+02\n",
       "smoothness_mean            1.893000e-02\n",
       "compactness_mean           6.548000e-02\n",
       "concavity_mean             1.009600e-01\n",
       "concave points_mean        5.346000e-02\n",
       "symmetry_mean              3.380000e-02\n",
       "fractal_dimension_mean     8.420000e-03\n",
       "radius_se                  2.465000e-01\n",
       "texture_se                 6.401000e-01\n",
       "perimeter_se               1.751000e+00\n",
       "area_se                    2.734000e+01\n",
       "smoothness_se              2.977000e-03\n",
       "compactness_se             1.937000e-02\n",
       "concavity_se               2.691000e-02\n",
       "concave points_se          6.999000e-03\n",
       "symmetry_se                8.320000e-03\n",
       "fractal_dimension_se       2.310000e-03\n",
       "radius_worst               5.780000e+00\n",
       "texture_worst              8.030000e+00\n",
       "perimeter_worst            4.129000e+01\n",
       "area_worst                 5.687000e+02\n",
       "smoothness_worst           2.940000e-02\n",
       "compactness_worst          1.919000e-01\n",
       "concavity_worst            2.684000e-01\n",
       "concave points_worst       9.647000e-02\n",
       "symmetry_worst             6.750000e-02\n",
       "fractal_dimension_worst    2.062000e-02\n",
       "dtype: float64"
      ]
     },
     "execution_count": 234,
     "metadata": {},
     "output_type": "execute_result"
    }
   ],
   "source": [
    "#The interquartile range of the data features\n",
    "data.quantile(0.75)-data.quantile(0.25)"
   ]
  },
  {
   "cell_type": "markdown",
   "id": "aef4b584",
   "metadata": {},
   "source": [
    "##### Data Distributions"
   ]
  },
  {
   "cell_type": "markdown",
   "id": "295a72cf",
   "metadata": {},
   "source": [
    "#### Box Plot"
   ]
  },
  {
   "cell_type": "code",
   "execution_count": 235,
   "id": "a44e402d",
   "metadata": {},
   "outputs": [
    {
     "data": {
      "text/html": [
       "<div>\n",
       "<style scoped>\n",
       "    .dataframe tbody tr th:only-of-type {\n",
       "        vertical-align: middle;\n",
       "    }\n",
       "\n",
       "    .dataframe tbody tr th {\n",
       "        vertical-align: top;\n",
       "    }\n",
       "\n",
       "    .dataframe thead th {\n",
       "        text-align: right;\n",
       "    }\n",
       "</style>\n",
       "<table border=\"1\" class=\"dataframe\">\n",
       "  <thead>\n",
       "    <tr style=\"text-align: right;\">\n",
       "      <th></th>\n",
       "      <th>Pid</th>\n",
       "      <th>radius_mean</th>\n",
       "      <th>texture_mean</th>\n",
       "      <th>perimeter_mean</th>\n",
       "      <th>area_mean</th>\n",
       "      <th>smoothness_mean</th>\n",
       "      <th>compactness_mean</th>\n",
       "      <th>concavity_mean</th>\n",
       "      <th>concave points_mean</th>\n",
       "      <th>symmetry_mean</th>\n",
       "      <th>...</th>\n",
       "      <th>radius_worst</th>\n",
       "      <th>texture_worst</th>\n",
       "      <th>perimeter_worst</th>\n",
       "      <th>area_worst</th>\n",
       "      <th>smoothness_worst</th>\n",
       "      <th>compactness_worst</th>\n",
       "      <th>concavity_worst</th>\n",
       "      <th>concave points_worst</th>\n",
       "      <th>symmetry_worst</th>\n",
       "      <th>fractal_dimension_worst</th>\n",
       "    </tr>\n",
       "  </thead>\n",
       "  <tbody>\n",
       "    <tr>\n",
       "      <th>0.05</th>\n",
       "      <td>90267.0</td>\n",
       "      <td>9.5292</td>\n",
       "      <td>13.088</td>\n",
       "      <td>60.496</td>\n",
       "      <td>275.78</td>\n",
       "      <td>0.075042</td>\n",
       "      <td>0.04066</td>\n",
       "      <td>0.005697</td>\n",
       "      <td>0.006050</td>\n",
       "      <td>0.14150</td>\n",
       "      <td>...</td>\n",
       "      <td>10.534</td>\n",
       "      <td>16.730</td>\n",
       "      <td>67.856</td>\n",
       "      <td>331.06</td>\n",
       "      <td>0.095734</td>\n",
       "      <td>0.071196</td>\n",
       "      <td>0.018360</td>\n",
       "      <td>0.024286</td>\n",
       "      <td>0.21270</td>\n",
       "      <td>0.062558</td>\n",
       "    </tr>\n",
       "    <tr>\n",
       "      <th>0.10</th>\n",
       "      <td>853155.4</td>\n",
       "      <td>10.2600</td>\n",
       "      <td>14.078</td>\n",
       "      <td>65.830</td>\n",
       "      <td>321.60</td>\n",
       "      <td>0.079654</td>\n",
       "      <td>0.04970</td>\n",
       "      <td>0.014416</td>\n",
       "      <td>0.011466</td>\n",
       "      <td>0.14958</td>\n",
       "      <td>...</td>\n",
       "      <td>11.234</td>\n",
       "      <td>17.912</td>\n",
       "      <td>72.178</td>\n",
       "      <td>384.72</td>\n",
       "      <td>0.102960</td>\n",
       "      <td>0.093676</td>\n",
       "      <td>0.045652</td>\n",
       "      <td>0.038460</td>\n",
       "      <td>0.22612</td>\n",
       "      <td>0.065792</td>\n",
       "    </tr>\n",
       "    <tr>\n",
       "      <th>0.25</th>\n",
       "      <td>869218.0</td>\n",
       "      <td>11.7000</td>\n",
       "      <td>16.170</td>\n",
       "      <td>75.170</td>\n",
       "      <td>420.30</td>\n",
       "      <td>0.086370</td>\n",
       "      <td>0.06492</td>\n",
       "      <td>0.029740</td>\n",
       "      <td>0.020540</td>\n",
       "      <td>0.16190</td>\n",
       "      <td>...</td>\n",
       "      <td>13.010</td>\n",
       "      <td>21.380</td>\n",
       "      <td>84.110</td>\n",
       "      <td>515.30</td>\n",
       "      <td>0.116600</td>\n",
       "      <td>0.147200</td>\n",
       "      <td>0.114500</td>\n",
       "      <td>0.064930</td>\n",
       "      <td>0.25040</td>\n",
       "      <td>0.071460</td>\n",
       "    </tr>\n",
       "    <tr>\n",
       "      <th>0.75</th>\n",
       "      <td>8813129.0</td>\n",
       "      <td>15.7800</td>\n",
       "      <td>21.800</td>\n",
       "      <td>104.100</td>\n",
       "      <td>782.70</td>\n",
       "      <td>0.105300</td>\n",
       "      <td>0.13040</td>\n",
       "      <td>0.130700</td>\n",
       "      <td>0.074000</td>\n",
       "      <td>0.19570</td>\n",
       "      <td>...</td>\n",
       "      <td>18.790</td>\n",
       "      <td>29.410</td>\n",
       "      <td>125.400</td>\n",
       "      <td>1084.00</td>\n",
       "      <td>0.146000</td>\n",
       "      <td>0.339100</td>\n",
       "      <td>0.382900</td>\n",
       "      <td>0.161400</td>\n",
       "      <td>0.31790</td>\n",
       "      <td>0.092080</td>\n",
       "    </tr>\n",
       "  </tbody>\n",
       "</table>\n",
       "<p>4 rows × 31 columns</p>\n",
       "</div>"
      ],
      "text/plain": [
       "            Pid  radius_mean  texture_mean  perimeter_mean  area_mean  \\\n",
       "0.05    90267.0       9.5292        13.088          60.496     275.78   \n",
       "0.10   853155.4      10.2600        14.078          65.830     321.60   \n",
       "0.25   869218.0      11.7000        16.170          75.170     420.30   \n",
       "0.75  8813129.0      15.7800        21.800         104.100     782.70   \n",
       "\n",
       "      smoothness_mean  compactness_mean  concavity_mean  concave points_mean  \\\n",
       "0.05         0.075042           0.04066        0.005697             0.006050   \n",
       "0.10         0.079654           0.04970        0.014416             0.011466   \n",
       "0.25         0.086370           0.06492        0.029740             0.020540   \n",
       "0.75         0.105300           0.13040        0.130700             0.074000   \n",
       "\n",
       "      symmetry_mean  ...  radius_worst  texture_worst  perimeter_worst  \\\n",
       "0.05        0.14150  ...        10.534         16.730           67.856   \n",
       "0.10        0.14958  ...        11.234         17.912           72.178   \n",
       "0.25        0.16190  ...        13.010         21.380           84.110   \n",
       "0.75        0.19570  ...        18.790         29.410          125.400   \n",
       "\n",
       "      area_worst  smoothness_worst  compactness_worst  concavity_worst  \\\n",
       "0.05      331.06          0.095734           0.071196         0.018360   \n",
       "0.10      384.72          0.102960           0.093676         0.045652   \n",
       "0.25      515.30          0.116600           0.147200         0.114500   \n",
       "0.75     1084.00          0.146000           0.339100         0.382900   \n",
       "\n",
       "      concave points_worst  symmetry_worst  fractal_dimension_worst  \n",
       "0.05              0.024286         0.21270                 0.062558  \n",
       "0.10              0.038460         0.22612                 0.065792  \n",
       "0.25              0.064930         0.25040                 0.071460  \n",
       "0.75              0.161400         0.31790                 0.092080  \n",
       "\n",
       "[4 rows x 31 columns]"
      ]
     },
     "execution_count": 235,
     "metadata": {},
     "output_type": "execute_result"
    }
   ],
   "source": [
    "data.quantile([0.05,0.1,0.25,0.75])#finding the quantiles of the features"
   ]
  },
  {
   "cell_type": "markdown",
   "id": "cf996691",
   "metadata": {},
   "source": [
    "5%, 10%, 25% and 75% of the features values"
   ]
  },
  {
   "cell_type": "code",
   "execution_count": 236,
   "id": "470e1aea",
   "metadata": {},
   "outputs": [
    {
     "data": {
      "text/plain": [
       "Text(0, 0.5, 'Radius Mean ')"
      ]
     },
     "execution_count": 236,
     "metadata": {},
     "output_type": "execute_result"
    },
    {
     "data": {
      "image/png": "[encoded data removed]",
      "text/plain": [
       "<Figure size 432x288 with 1 Axes>"
      ]
     },
     "metadata": {
      "needs_background": "light"
     },
     "output_type": "display_data"
    }
   ],
   "source": [
    "ax =  data['radius_mean'].plot.box()#Plotting the box plot to see the outliers of data\n",
    "ax.set_ylabel(\"Radius Mean \")"
   ]
  },
  {
   "cell_type": "markdown",
   "id": "399d12d7",
   "metadata": {},
   "source": [
    "Inference: There are number of outliers in the feature 'Radius Mean'"
   ]
  },
  {
   "cell_type": "code",
   "execution_count": 237,
   "id": "7934673c",
   "metadata": {},
   "outputs": [
    {
     "data": {
      "text/plain": [
       "4.08"
      ]
     },
     "execution_count": 237,
     "metadata": {},
     "output_type": "execute_result"
    }
   ],
   "source": [
    "Radius_mean_IQR = data['radius_mean'].quantile(0.75) - data['radius_mean'].quantile(0.25)#Finding the InterQaurtile Range\n",
    "Radius_mean_IQR"
   ]
  },
  {
   "cell_type": "code",
   "execution_count": 238,
   "id": "05725d15",
   "metadata": {},
   "outputs": [],
   "source": [
    "q1, q3 = np.percentile(data['radius_mean'], [25, 75])#Finding the first quartile and 3 rd quartile"
   ]
  },
  {
   "cell_type": "code",
   "execution_count": 239,
   "id": "27370df1",
   "metadata": {},
   "outputs": [],
   "source": [
    "outlier_cutoff = 1.5 * Radius_mean_IQR#The cut off is 1.5 times the IQR\n",
    "lower_cutoff = q1 - outlier_cutoff#Lower Cut off is the difference between the Q1 and outlier cut off\n",
    "upper_cutoff = q3 + outlier_cutoff#Upper Cut off is the su of  the Q3 and outlier cut off"
   ]
  },
  {
   "cell_type": "markdown",
   "id": "3ec39a5e",
   "metadata": {},
   "source": [
    "Inference: Any values below the lower cut off or above the upper cut off will be considered as outlier"
   ]
  },
  {
   "cell_type": "code",
   "execution_count": 240,
   "id": "cc75a06a",
   "metadata": {},
   "outputs": [
    {
     "name": "stdout",
     "output_type": "stream",
     "text": [
      "14\n"
     ]
    },
    {
     "data": {
      "text/plain": [
       "0.02460456942003515"
      ]
     },
     "execution_count": 240,
     "metadata": {},
     "output_type": "execute_result"
    }
   ],
   "source": [
    "Radius_mean_outliers = len([x for x in data['radius_mean'] if x < lower_cutoff or x > upper_cutoff])#Findging the outliers\n",
    "print(Radius_mean_outliers)\n",
    "Radius_mean_outliers/len(data['radius_mean'])\n"
   ]
  },
  {
   "cell_type": "markdown",
   "id": "12179518",
   "metadata": {},
   "source": [
    "Inference : the number of outliers in radius_mean is 18 and that is 3.16% of the total values"
   ]
  },
  {
   "cell_type": "markdown",
   "id": "a971ab56",
   "metadata": {},
   "source": [
    "#### Note: *We are not removing the outliers as of now, because these maybe genuine outliers and removing them may result in loss of important information.*"
   ]
  },
  {
   "cell_type": "code",
   "execution_count": 241,
   "id": "f5071c0c",
   "metadata": {},
   "outputs": [
    {
     "data": {
      "text/plain": [
       "Pid                        7.943911e+06\n",
       "radius_mean                4.080000e+00\n",
       "texture_mean               5.630000e+00\n",
       "perimeter_mean             2.893000e+01\n",
       "area_mean                  3.624000e+02\n",
       "smoothness_mean            1.893000e-02\n",
       "compactness_mean           6.548000e-02\n",
       "concavity_mean             1.009600e-01\n",
       "concave points_mean        5.346000e-02\n",
       "symmetry_mean              3.380000e-02\n",
       "fractal_dimension_mean     8.420000e-03\n",
       "radius_se                  2.465000e-01\n",
       "texture_se                 6.401000e-01\n",
       "perimeter_se               1.751000e+00\n",
       "area_se                    2.734000e+01\n",
       "smoothness_se              2.977000e-03\n",
       "compactness_se             1.937000e-02\n",
       "concavity_se               2.691000e-02\n",
       "concave points_se          6.999000e-03\n",
       "symmetry_se                8.320000e-03\n",
       "fractal_dimension_se       2.310000e-03\n",
       "radius_worst               5.780000e+00\n",
       "texture_worst              8.030000e+00\n",
       "perimeter_worst            4.129000e+01\n",
       "area_worst                 5.687000e+02\n",
       "smoothness_worst           2.940000e-02\n",
       "compactness_worst          1.919000e-01\n",
       "concavity_worst            2.684000e-01\n",
       "concave points_worst       9.647000e-02\n",
       "symmetry_worst             6.750000e-02\n",
       "fractal_dimension_worst    2.062000e-02\n",
       "dtype: float64"
      ]
     },
     "execution_count": 241,
     "metadata": {},
     "output_type": "execute_result"
    }
   ],
   "source": [
    "#Finding IQR of the every feature\n",
    "IQR = data.quantile(0.75) - data.quantile(0.25)\n",
    "IQR"
   ]
  },
  {
   "cell_type": "code",
   "execution_count": 242,
   "id": "c8618fc1",
   "metadata": {},
   "outputs": [
    {
     "data": {
      "text/plain": [
       "(0.0554325, 14.96)"
      ]
     },
     "execution_count": 242,
     "metadata": {},
     "output_type": "execute_result"
    }
   ],
   "source": [
    "q1, q3 = np.percentile(data.drop(['Pid','diagnosis'],axis=1), [25, 75]) #Finding the first quartile and 3 rd quartile\n",
    "q1,q3"
   ]
  },
  {
   "cell_type": "code",
   "execution_count": 243,
   "id": "1b181e9c",
   "metadata": {},
   "outputs": [],
   "source": [
    "outlier_cutoff = 1.5 * Radius_mean_IQR#The cut off is 1.5 times the IQR\n",
    "lower_cutoff = q1 - outlier_cutoff\n",
    "upper_cutoff = q3 + outlier_cutoff\n"
   ]
  },
  {
   "cell_type": "code",
   "execution_count": 244,
   "id": "8fcfabe8",
   "metadata": {},
   "outputs": [],
   "source": [
    "data_outliers = data.drop(['Pid','diagnosis'],axis=1)#We are dropping the ID column and the diagnosis column so we can find the outliers of all other features at once\n",
    "\n"
   ]
  },
  {
   "cell_type": "code",
   "execution_count": 245,
   "id": "db4d6c17",
   "metadata": {},
   "outputs": [],
   "source": [
    "#Finding the outliers in every feature of the data frame\n",
    "q1 = data_outliers.quantile(0.25)\n",
    "q3 = data_outliers.quantile(0.75)\n",
    "\n",
    "iqr = q3 - q1\n",
    "lower_cutoff = q1 - 1.5*iqr\n",
    "upper_cutoff = q3 + 1.5*iqr\n",
    "outliers = data_outliers.apply(lambda x: x[(x < lower_cutoff[x.name]) | (x > upper_cutoff[x.name])], axis=0)"
   ]
  },
  {
   "cell_type": "code",
   "execution_count": 246,
   "id": "00885dc3",
   "metadata": {},
   "outputs": [
    {
     "data": {
      "text/plain": [
       "radius_mean                14\n",
       "texture_mean                7\n",
       "perimeter_mean             13\n",
       "area_mean                  25\n",
       "smoothness_mean             6\n",
       "compactness_mean           16\n",
       "concavity_mean             18\n",
       "concave points_mean        10\n",
       "symmetry_mean              15\n",
       "fractal_dimension_mean     15\n",
       "radius_se                  38\n",
       "texture_se                 20\n",
       "perimeter_se               38\n",
       "area_se                    65\n",
       "smoothness_se              30\n",
       "compactness_se             28\n",
       "concavity_se               22\n",
       "concave points_se          20\n",
       "symmetry_se                27\n",
       "fractal_dimension_se       28\n",
       "radius_worst               17\n",
       "texture_worst               8\n",
       "perimeter_worst            15\n",
       "area_worst                 35\n",
       "smoothness_worst            7\n",
       "compactness_worst          16\n",
       "concavity_worst            12\n",
       "concave points_worst        0\n",
       "symmetry_worst             23\n",
       "fractal_dimension_worst    24\n",
       "dtype: int64"
      ]
     },
     "execution_count": 246,
     "metadata": {},
     "output_type": "execute_result"
    }
   ],
   "source": [
    "(len(outliers)-outliers.isnull().sum())#Finding the number of outliers in every feature"
   ]
  },
  {
   "cell_type": "code",
   "execution_count": 247,
   "id": "532c006f",
   "metadata": {},
   "outputs": [
    {
     "data": {
      "text/plain": [
       "Text(0, 0.5, 'Radius Mean')"
      ]
     },
     "execution_count": 247,
     "metadata": {},
     "output_type": "execute_result"
    },
    {
     "data": {
      "image/png": "[encoded data removed]",
      "text/plain": [
       "<Figure size 432x288 with 1 Axes>"
      ]
     },
     "metadata": {
      "needs_background": "light"
     },
     "output_type": "display_data"
    }
   ],
   "source": [
    "#Histogram of radius mean\n",
    "ax = (data['radius_mean']).plot.hist()\n",
    "ax.set_ylabel(\"Radius Mean\")"
   ]
  },
  {
   "cell_type": "code",
   "execution_count": 248,
   "id": "5f731796",
   "metadata": {},
   "outputs": [
    {
     "data": {
      "text/plain": [
       "Text(0, 0.5, 'texture_mean ')"
      ]
     },
     "execution_count": 248,
     "metadata": {},
     "output_type": "execute_result"
    },
    {
     "data": {
      "image/png": "[encoded data removed]",
      "text/plain": [
       "<Figure size 432x288 with 1 Axes>"
      ]
     },
     "metadata": {
      "needs_background": "light"
     },
     "output_type": "display_data"
    }
   ],
   "source": [
    "#Histogram of texture mean\n",
    "ax = (data['texture_mean']).plot.hist()\n",
    "ax.set_ylabel(\"texture_mean \")"
   ]
  },
  {
   "cell_type": "code",
   "execution_count": 249,
   "id": "439c5928",
   "metadata": {},
   "outputs": [
    {
     "data": {
      "text/plain": [
       "Text(0, 0.5, 'perimeter_mean')"
      ]
     },
     "execution_count": 249,
     "metadata": {},
     "output_type": "execute_result"
    },
    {
     "data": {
      "image/png": "[encoded data removed]",
      "text/plain": [
       "<Figure size 432x288 with 1 Axes>"
      ]
     },
     "metadata": {
      "needs_background": "light"
     },
     "output_type": "display_data"
    }
   ],
   "source": [
    "#Histogram of perimeter mean\n",
    "ax = (data['perimeter_mean']).plot.hist()\n",
    "ax.set_ylabel(\"perimeter_mean\")"
   ]
  },
  {
   "cell_type": "code",
   "execution_count": 250,
   "id": "7a36fa07",
   "metadata": {},
   "outputs": [
    {
     "data": {
      "text/plain": [
       "Text(0, 0.5, 'area_mean')"
      ]
     },
     "execution_count": 250,
     "metadata": {},
     "output_type": "execute_result"
    },
    {
     "data": {
      "image/png": "[encoded data removed]",
      "text/plain": [
       "<Figure size 432x288 with 1 Axes>"
      ]
     },
     "metadata": {
      "needs_background": "light"
     },
     "output_type": "display_data"
    }
   ],
   "source": [
    "#Histogram of area mean\n",
    "ax = (data['area_mean']).plot.hist()\n",
    "ax.set_ylabel(\"area_mean\")"
   ]
  },
  {
   "cell_type": "code",
   "execution_count": 251,
   "id": "60c87a28",
   "metadata": {},
   "outputs": [
    {
     "name": "stderr",
     "output_type": "stream",
     "text": [
      "C:\\Users\\user\\anaconda3\\lib\\site-packages\\numpy\\lib\\histograms.py:905: RuntimeWarning: invalid value encountered in true_divide\n",
      "  return n/db/n.sum(), bin_edges\n"
     ]
    },
    {
     "data": {
      "image/png": "[encoded data removed]",
      "text/plain": [
       "<Figure size 432x288 with 1 Axes>"
      ]
     },
     "metadata": {
      "needs_background": "light"
     },
     "output_type": "display_data"
    }
   ],
   "source": [
    "#Density Plot of radius mean\n",
    "ax = (data['radius_mean']).plot.hist(density=True,bins=range(1,7))\n",
    "(data['radius_mean']).plot.density(ax=ax)\n",
    "plt.show()"
   ]
  },
  {
   "cell_type": "code",
   "execution_count": 252,
   "id": "4ede9428",
   "metadata": {},
   "outputs": [
    {
     "name": "stderr",
     "output_type": "stream",
     "text": [
      "C:\\Users\\user\\anaconda3\\lib\\site-packages\\numpy\\lib\\histograms.py:905: RuntimeWarning: invalid value encountered in true_divide\n",
      "  return n/db/n.sum(), bin_edges\n"
     ]
    },
    {
     "data": {
      "image/png": "[encoded data removed]",
      "text/plain": [
       "<Figure size 432x288 with 1 Axes>"
      ]
     },
     "metadata": {
      "needs_background": "light"
     },
     "output_type": "display_data"
    }
   ],
   "source": [
    "#Density Plot fo texture mean\n",
    "ax = (data['texture_mean']).plot.hist(density=True,bins=range(1,7))\n",
    "(data['texture_mean']).plot.density(ax=ax)\n",
    "plt.show()"
   ]
  },
  {
   "cell_type": "code",
   "execution_count": 253,
   "id": "3f99cd7f",
   "metadata": {},
   "outputs": [
    {
     "data": {
      "text/plain": [
       "B    357\n",
       "M    212\n",
       "Name: diagnosis, dtype: int64"
      ]
     },
     "execution_count": 253,
     "metadata": {},
     "output_type": "execute_result"
    }
   ],
   "source": [
    "ans = data.diagnosis.value_counts()\n",
    "ans"
   ]
  },
  {
   "cell_type": "code",
   "execution_count": 254,
   "id": "46196cd1",
   "metadata": {},
   "outputs": [
    {
     "name": "stderr",
     "output_type": "stream",
     "text": [
      "C:\\Users\\user\\anaconda3\\lib\\site-packages\\seaborn\\_decorators.py:36: FutureWarning: Pass the following variables as keyword args: x, y. From version 0.12, the only valid positional argument will be `data`, and passing other arguments without an explicit keyword will result in an error or misinterpretation.\n",
      "  warnings.warn(\n",
      "No handles with labels found to put in legend.\n"
     ]
    },
    {
     "data": {
      "image/png": "[encoded data removed]",
      "text/plain": [
       "<Figure size 432x288 with 1 Axes>"
      ]
     },
     "metadata": {
      "needs_background": "light"
     },
     "output_type": "display_data"
    }
   ],
   "source": [
    "#Bar plot of the feature diagnosis which is the target variable\n",
    "sns.barplot(ans.index,ans.values)\n",
    "plt.legend()\n",
    "plt.show()"
   ]
  },
  {
   "cell_type": "code",
   "execution_count": 255,
   "id": "d86412a6",
   "metadata": {},
   "outputs": [],
   "source": [
    "#Encoding the target variable to a numerical\n",
    "from sklearn.preprocessing import LabelEncoder\n",
    "le = LabelEncoder()\n",
    "data['diagnosis'] = le.fit_transform(data['diagnosis'])"
   ]
  },
  {
   "cell_type": "code",
   "execution_count": 256,
   "id": "2d0ba7e6",
   "metadata": {},
   "outputs": [],
   "source": [
    "correlation = data.corr()#Findign the correlation of every feature"
   ]
  },
  {
   "cell_type": "code",
   "execution_count": 257,
   "id": "85ff9dec",
   "metadata": {},
   "outputs": [],
   "source": [
    "target = abs(correlation['diagnosis'])#Finding the correlation of every feature with the feature 'diagnosis'"
   ]
  },
  {
   "cell_type": "code",
   "execution_count": 258,
   "id": "f75ccbd4",
   "metadata": {},
   "outputs": [
    {
     "data": {
      "text/plain": [
       "16"
      ]
     },
     "execution_count": 258,
     "metadata": {},
     "output_type": "execute_result"
    }
   ],
   "source": [
    "relevant_features = target[target>0.5].index#Finding the relevant features that is the features which have a  absolute correlation greater than 0.5\n",
    "len(relevant_features)"
   ]
  },
  {
   "cell_type": "markdown",
   "id": "9dc48979",
   "metadata": {},
   "source": [
    "Inference: There are 16 features that have an absolute correlation greater than 0.5"
   ]
  },
  {
   "cell_type": "code",
   "execution_count": 259,
   "id": "1b3a9268",
   "metadata": {},
   "outputs": [
    {
     "data": {
      "text/html": [
       "<div>\n",
       "<style scoped>\n",
       "    .dataframe tbody tr th:only-of-type {\n",
       "        vertical-align: middle;\n",
       "    }\n",
       "\n",
       "    .dataframe tbody tr th {\n",
       "        vertical-align: top;\n",
       "    }\n",
       "\n",
       "    .dataframe thead th {\n",
       "        text-align: right;\n",
       "    }\n",
       "</style>\n",
       "<table border=\"1\" class=\"dataframe\">\n",
       "  <thead>\n",
       "    <tr style=\"text-align: right;\">\n",
       "      <th></th>\n",
       "      <th>diagnosis</th>\n",
       "      <th>radius_mean</th>\n",
       "      <th>perimeter_mean</th>\n",
       "      <th>area_mean</th>\n",
       "      <th>compactness_mean</th>\n",
       "      <th>concavity_mean</th>\n",
       "      <th>concave points_mean</th>\n",
       "      <th>radius_se</th>\n",
       "      <th>perimeter_se</th>\n",
       "      <th>area_se</th>\n",
       "      <th>radius_worst</th>\n",
       "      <th>perimeter_worst</th>\n",
       "      <th>area_worst</th>\n",
       "      <th>compactness_worst</th>\n",
       "      <th>concavity_worst</th>\n",
       "      <th>concave points_worst</th>\n",
       "    </tr>\n",
       "  </thead>\n",
       "  <tbody>\n",
       "    <tr>\n",
       "      <th>0</th>\n",
       "      <td>1</td>\n",
       "      <td>15.46</td>\n",
       "      <td>101.70</td>\n",
       "      <td>748.9</td>\n",
       "      <td>0.12230</td>\n",
       "      <td>0.14660</td>\n",
       "      <td>0.08087</td>\n",
       "      <td>0.4743</td>\n",
       "      <td>3.0940</td>\n",
       "      <td>48.31</td>\n",
       "      <td>19.26</td>\n",
       "      <td>124.90</td>\n",
       "      <td>1156.0</td>\n",
       "      <td>0.2394</td>\n",
       "      <td>0.3791</td>\n",
       "      <td>0.15140</td>\n",
       "    </tr>\n",
       "    <tr>\n",
       "      <th>1</th>\n",
       "      <td>0</td>\n",
       "      <td>12.89</td>\n",
       "      <td>81.89</td>\n",
       "      <td>515.9</td>\n",
       "      <td>0.03729</td>\n",
       "      <td>0.02260</td>\n",
       "      <td>0.01171</td>\n",
       "      <td>0.1532</td>\n",
       "      <td>1.1150</td>\n",
       "      <td>12.68</td>\n",
       "      <td>13.62</td>\n",
       "      <td>87.40</td>\n",
       "      <td>577.0</td>\n",
       "      <td>0.1147</td>\n",
       "      <td>0.1186</td>\n",
       "      <td>0.05366</td>\n",
       "    </tr>\n",
       "    <tr>\n",
       "      <th>2</th>\n",
       "      <td>0</td>\n",
       "      <td>14.96</td>\n",
       "      <td>97.03</td>\n",
       "      <td>687.3</td>\n",
       "      <td>0.09823</td>\n",
       "      <td>0.05940</td>\n",
       "      <td>0.04819</td>\n",
       "      <td>0.2877</td>\n",
       "      <td>2.1710</td>\n",
       "      <td>24.87</td>\n",
       "      <td>16.25</td>\n",
       "      <td>109.10</td>\n",
       "      <td>809.8</td>\n",
       "      <td>0.3030</td>\n",
       "      <td>0.1804</td>\n",
       "      <td>0.14890</td>\n",
       "    </tr>\n",
       "    <tr>\n",
       "      <th>3</th>\n",
       "      <td>0</td>\n",
       "      <td>12.94</td>\n",
       "      <td>83.18</td>\n",
       "      <td>507.6</td>\n",
       "      <td>0.08836</td>\n",
       "      <td>0.03296</td>\n",
       "      <td>0.02390</td>\n",
       "      <td>0.1458</td>\n",
       "      <td>0.9975</td>\n",
       "      <td>11.36</td>\n",
       "      <td>13.86</td>\n",
       "      <td>89.69</td>\n",
       "      <td>580.9</td>\n",
       "      <td>0.1958</td>\n",
       "      <td>0.1810</td>\n",
       "      <td>0.08388</td>\n",
       "    </tr>\n",
       "    <tr>\n",
       "      <th>4</th>\n",
       "      <td>1</td>\n",
       "      <td>13.17</td>\n",
       "      <td>85.98</td>\n",
       "      <td>534.6</td>\n",
       "      <td>0.12310</td>\n",
       "      <td>0.12260</td>\n",
       "      <td>0.07340</td>\n",
       "      <td>0.2871</td>\n",
       "      <td>1.8970</td>\n",
       "      <td>24.25</td>\n",
       "      <td>15.67</td>\n",
       "      <td>102.80</td>\n",
       "      <td>759.4</td>\n",
       "      <td>0.4166</td>\n",
       "      <td>0.5006</td>\n",
       "      <td>0.20880</td>\n",
       "    </tr>\n",
       "    <tr>\n",
       "      <th>...</th>\n",
       "      <td>...</td>\n",
       "      <td>...</td>\n",
       "      <td>...</td>\n",
       "      <td>...</td>\n",
       "      <td>...</td>\n",
       "      <td>...</td>\n",
       "      <td>...</td>\n",
       "      <td>...</td>\n",
       "      <td>...</td>\n",
       "      <td>...</td>\n",
       "      <td>...</td>\n",
       "      <td>...</td>\n",
       "      <td>...</td>\n",
       "      <td>...</td>\n",
       "      <td>...</td>\n",
       "      <td>...</td>\n",
       "    </tr>\n",
       "    <tr>\n",
       "      <th>564</th>\n",
       "      <td>1</td>\n",
       "      <td>21.10</td>\n",
       "      <td>138.10</td>\n",
       "      <td>1384.0</td>\n",
       "      <td>0.11750</td>\n",
       "      <td>0.15720</td>\n",
       "      <td>0.11550</td>\n",
       "      <td>0.6643</td>\n",
       "      <td>4.5420</td>\n",
       "      <td>81.89</td>\n",
       "      <td>25.68</td>\n",
       "      <td>168.20</td>\n",
       "      <td>2022.0</td>\n",
       "      <td>0.3101</td>\n",
       "      <td>0.4399</td>\n",
       "      <td>0.22800</td>\n",
       "    </tr>\n",
       "    <tr>\n",
       "      <th>565</th>\n",
       "      <td>1</td>\n",
       "      <td>17.08</td>\n",
       "      <td>111.20</td>\n",
       "      <td>930.9</td>\n",
       "      <td>0.11100</td>\n",
       "      <td>0.10070</td>\n",
       "      <td>0.06431</td>\n",
       "      <td>0.9291</td>\n",
       "      <td>6.0510</td>\n",
       "      <td>115.20</td>\n",
       "      <td>22.96</td>\n",
       "      <td>152.10</td>\n",
       "      <td>1648.0</td>\n",
       "      <td>0.2444</td>\n",
       "      <td>0.2639</td>\n",
       "      <td>0.15550</td>\n",
       "    </tr>\n",
       "    <tr>\n",
       "      <th>566</th>\n",
       "      <td>1</td>\n",
       "      <td>27.42</td>\n",
       "      <td>186.90</td>\n",
       "      <td>2501.0</td>\n",
       "      <td>0.19880</td>\n",
       "      <td>0.36350</td>\n",
       "      <td>0.16890</td>\n",
       "      <td>2.5470</td>\n",
       "      <td>18.6500</td>\n",
       "      <td>542.20</td>\n",
       "      <td>36.04</td>\n",
       "      <td>251.20</td>\n",
       "      <td>4254.0</td>\n",
       "      <td>0.4256</td>\n",
       "      <td>0.6833</td>\n",
       "      <td>0.26250</td>\n",
       "    </tr>\n",
       "    <tr>\n",
       "      <th>567</th>\n",
       "      <td>0</td>\n",
       "      <td>11.60</td>\n",
       "      <td>73.88</td>\n",
       "      <td>412.7</td>\n",
       "      <td>0.05855</td>\n",
       "      <td>0.03367</td>\n",
       "      <td>0.01777</td>\n",
       "      <td>0.1816</td>\n",
       "      <td>1.3030</td>\n",
       "      <td>12.89</td>\n",
       "      <td>12.77</td>\n",
       "      <td>82.68</td>\n",
       "      <td>495.1</td>\n",
       "      <td>0.1808</td>\n",
       "      <td>0.1860</td>\n",
       "      <td>0.08288</td>\n",
       "    </tr>\n",
       "    <tr>\n",
       "      <th>568</th>\n",
       "      <td>0</td>\n",
       "      <td>13.17</td>\n",
       "      <td>84.28</td>\n",
       "      <td>537.3</td>\n",
       "      <td>0.05994</td>\n",
       "      <td>0.04859</td>\n",
       "      <td>0.02870</td>\n",
       "      <td>0.2023</td>\n",
       "      <td>1.2360</td>\n",
       "      <td>16.89</td>\n",
       "      <td>14.90</td>\n",
       "      <td>95.10</td>\n",
       "      <td>687.6</td>\n",
       "      <td>0.1965</td>\n",
       "      <td>0.1876</td>\n",
       "      <td>0.10450</td>\n",
       "    </tr>\n",
       "  </tbody>\n",
       "</table>\n",
       "<p>569 rows × 16 columns</p>\n",
       "</div>"
      ],
      "text/plain": [
       "     diagnosis  radius_mean  perimeter_mean  area_mean  compactness_mean  \\\n",
       "0            1        15.46          101.70      748.9           0.12230   \n",
       "1            0        12.89           81.89      515.9           0.03729   \n",
       "2            0        14.96           97.03      687.3           0.09823   \n",
       "3            0        12.94           83.18      507.6           0.08836   \n",
       "4            1        13.17           85.98      534.6           0.12310   \n",
       "..         ...          ...             ...        ...               ...   \n",
       "564          1        21.10          138.10     1384.0           0.11750   \n",
       "565          1        17.08          111.20      930.9           0.11100   \n",
       "566          1        27.42          186.90     2501.0           0.19880   \n",
       "567          0        11.60           73.88      412.7           0.05855   \n",
       "568          0        13.17           84.28      537.3           0.05994   \n",
       "\n",
       "     concavity_mean  concave points_mean  radius_se  perimeter_se  area_se  \\\n",
       "0           0.14660              0.08087     0.4743        3.0940    48.31   \n",
       "1           0.02260              0.01171     0.1532        1.1150    12.68   \n",
       "2           0.05940              0.04819     0.2877        2.1710    24.87   \n",
       "3           0.03296              0.02390     0.1458        0.9975    11.36   \n",
       "4           0.12260              0.07340     0.2871        1.8970    24.25   \n",
       "..              ...                  ...        ...           ...      ...   \n",
       "564         0.15720              0.11550     0.6643        4.5420    81.89   \n",
       "565         0.10070              0.06431     0.9291        6.0510   115.20   \n",
       "566         0.36350              0.16890     2.5470       18.6500   542.20   \n",
       "567         0.03367              0.01777     0.1816        1.3030    12.89   \n",
       "568         0.04859              0.02870     0.2023        1.2360    16.89   \n",
       "\n",
       "     radius_worst  perimeter_worst  area_worst  compactness_worst  \\\n",
       "0           19.26           124.90      1156.0             0.2394   \n",
       "1           13.62            87.40       577.0             0.1147   \n",
       "2           16.25           109.10       809.8             0.3030   \n",
       "3           13.86            89.69       580.9             0.1958   \n",
       "4           15.67           102.80       759.4             0.4166   \n",
       "..            ...              ...         ...                ...   \n",
       "564         25.68           168.20      2022.0             0.3101   \n",
       "565         22.96           152.10      1648.0             0.2444   \n",
       "566         36.04           251.20      4254.0             0.4256   \n",
       "567         12.77            82.68       495.1             0.1808   \n",
       "568         14.90            95.10       687.6             0.1965   \n",
       "\n",
       "     concavity_worst  concave points_worst  \n",
       "0             0.3791               0.15140  \n",
       "1             0.1186               0.05366  \n",
       "2             0.1804               0.14890  \n",
       "3             0.1810               0.08388  \n",
       "4             0.5006               0.20880  \n",
       "..               ...                   ...  \n",
       "564           0.4399               0.22800  \n",
       "565           0.2639               0.15550  \n",
       "566           0.6833               0.26250  \n",
       "567           0.1860               0.08288  \n",
       "568           0.1876               0.10450  \n",
       "\n",
       "[569 rows x 16 columns]"
      ]
     },
     "execution_count": 259,
     "metadata": {},
     "output_type": "execute_result"
    }
   ],
   "source": [
    "df = data[relevant_features] #Creating a new dataframe from 'data' which contains only relevant features\n",
    "df"
   ]
  },
  {
   "cell_type": "code",
   "execution_count": 260,
   "id": "a99c0ab7",
   "metadata": {},
   "outputs": [],
   "source": [
    "y = df['diagnosis']#Saving the target variable \n",
    "df = df.drop('diagnosis',axis=1)#Dropping the the target variable"
   ]
  },
  {
   "cell_type": "code",
   "execution_count": 261,
   "id": "d9bfa636",
   "metadata": {},
   "outputs": [
    {
     "data": {
      "text/plain": [
       "Index(['radius_mean', 'perimeter_mean', 'area_mean', 'compactness_mean',\n",
       "       'concavity_mean', 'concave points_mean', 'radius_se', 'perimeter_se',\n",
       "       'area_se', 'radius_worst', 'perimeter_worst', 'area_worst',\n",
       "       'compactness_worst', 'concavity_worst', 'concave points_worst'],\n",
       "      dtype='object')"
      ]
     },
     "execution_count": 261,
     "metadata": {},
     "output_type": "execute_result"
    }
   ],
   "source": [
    "multi = df.corr()\n",
    "multicolinear  = multi[multi>0.5].index#Finding the relevant features that is the features which have a  absolute correlation greater than 0.5\n",
    "multicolinear"
   ]
  },
  {
   "cell_type": "markdown",
   "id": "1035ff26",
   "metadata": {},
   "source": [
    "Inference: We can see that there are features with multicolienarity . So we should use PCA to reduce the dimension and hence remove multicolinearity. Before doing PCA we should stanfardize the features so they will have same variance."
   ]
  },
  {
   "cell_type": "code",
   "execution_count": 262,
   "id": "35176448",
   "metadata": {},
   "outputs": [],
   "source": [
    "#Scaling the data\n",
    "from sklearn.preprocessing import StandardScaler\n",
    "\n",
    "\n",
    "\n",
    "\n",
    "\n",
    "# Scale the independent variables\n",
    "scaler = StandardScaler()\n",
    "X_scaled = scaler.fit_transform(df)\n"
   ]
  },
  {
   "cell_type": "code",
   "execution_count": 263,
   "id": "62c08f76",
   "metadata": {},
   "outputs": [
    {
     "data": {
      "text/html": [
       "<div>\n",
       "<style scoped>\n",
       "    .dataframe tbody tr th:only-of-type {\n",
       "        vertical-align: middle;\n",
       "    }\n",
       "\n",
       "    .dataframe tbody tr th {\n",
       "        vertical-align: top;\n",
       "    }\n",
       "\n",
       "    .dataframe thead th {\n",
       "        text-align: right;\n",
       "    }\n",
       "</style>\n",
       "<table border=\"1\" class=\"dataframe\">\n",
       "  <thead>\n",
       "    <tr style=\"text-align: right;\">\n",
       "      <th></th>\n",
       "      <th>0</th>\n",
       "      <th>1</th>\n",
       "      <th>2</th>\n",
       "      <th>3</th>\n",
       "      <th>4</th>\n",
       "      <th>5</th>\n",
       "      <th>6</th>\n",
       "      <th>7</th>\n",
       "      <th>8</th>\n",
       "      <th>9</th>\n",
       "      <th>10</th>\n",
       "      <th>11</th>\n",
       "      <th>12</th>\n",
       "      <th>13</th>\n",
       "      <th>14</th>\n",
       "    </tr>\n",
       "  </thead>\n",
       "  <tbody>\n",
       "    <tr>\n",
       "      <th>0</th>\n",
       "      <td>0.378508</td>\n",
       "      <td>0.400820</td>\n",
       "      <td>0.267377</td>\n",
       "      <td>0.340350</td>\n",
       "      <td>0.722159</td>\n",
       "      <td>0.820923</td>\n",
       "      <td>0.249497</td>\n",
       "      <td>0.112838</td>\n",
       "      <td>0.175418</td>\n",
       "      <td>0.619345</td>\n",
       "      <td>0.525386</td>\n",
       "      <td>0.484159</td>\n",
       "      <td>-0.094562</td>\n",
       "      <td>0.512911</td>\n",
       "      <td>0.560244</td>\n",
       "    </tr>\n",
       "    <tr>\n",
       "      <th>1</th>\n",
       "      <td>-0.351408</td>\n",
       "      <td>-0.415157</td>\n",
       "      <td>-0.395299</td>\n",
       "      <td>-1.270715</td>\n",
       "      <td>-0.839811</td>\n",
       "      <td>-0.970564</td>\n",
       "      <td>-0.909420</td>\n",
       "      <td>-0.866828</td>\n",
       "      <td>-0.608503</td>\n",
       "      <td>-0.548601</td>\n",
       "      <td>-0.591583</td>\n",
       "      <td>-0.533673</td>\n",
       "      <td>-0.887829</td>\n",
       "      <td>-0.736844</td>\n",
       "      <td>-0.928004</td>\n",
       "    </tr>\n",
       "    <tr>\n",
       "      <th>2</th>\n",
       "      <td>0.236501</td>\n",
       "      <td>0.208462</td>\n",
       "      <td>0.092180</td>\n",
       "      <td>-0.115812</td>\n",
       "      <td>-0.376258</td>\n",
       "      <td>-0.025604</td>\n",
       "      <td>-0.423981</td>\n",
       "      <td>-0.344076</td>\n",
       "      <td>-0.340302</td>\n",
       "      <td>-0.003974</td>\n",
       "      <td>0.054770</td>\n",
       "      <td>-0.124431</td>\n",
       "      <td>0.310022</td>\n",
       "      <td>-0.440357</td>\n",
       "      <td>0.522178</td>\n",
       "    </tr>\n",
       "    <tr>\n",
       "      <th>3</th>\n",
       "      <td>-0.337208</td>\n",
       "      <td>-0.362022</td>\n",
       "      <td>-0.418905</td>\n",
       "      <td>-0.302863</td>\n",
       "      <td>-0.709311</td>\n",
       "      <td>-0.654800</td>\n",
       "      <td>-0.936128</td>\n",
       "      <td>-0.924994</td>\n",
       "      <td>-0.637545</td>\n",
       "      <td>-0.498901</td>\n",
       "      <td>-0.523373</td>\n",
       "      <td>-0.526817</td>\n",
       "      <td>-0.371919</td>\n",
       "      <td>-0.437479</td>\n",
       "      <td>-0.467856</td>\n",
       "    </tr>\n",
       "    <tr>\n",
       "      <th>4</th>\n",
       "      <td>-0.271884</td>\n",
       "      <td>-0.246689</td>\n",
       "      <td>-0.342115</td>\n",
       "      <td>0.355511</td>\n",
       "      <td>0.419843</td>\n",
       "      <td>0.627424</td>\n",
       "      <td>-0.426147</td>\n",
       "      <td>-0.479714</td>\n",
       "      <td>-0.353943</td>\n",
       "      <td>-0.124082</td>\n",
       "      <td>-0.132881</td>\n",
       "      <td>-0.213029</td>\n",
       "      <td>1.032677</td>\n",
       "      <td>1.095810</td>\n",
       "      <td>1.434251</td>\n",
       "    </tr>\n",
       "  </tbody>\n",
       "</table>\n",
       "</div>"
      ],
      "text/plain": [
       "         0         1         2         3         4         5         6   \\\n",
       "0  0.378508  0.400820  0.267377  0.340350  0.722159  0.820923  0.249497   \n",
       "1 -0.351408 -0.415157 -0.395299 -1.270715 -0.839811 -0.970564 -0.909420   \n",
       "2  0.236501  0.208462  0.092180 -0.115812 -0.376258 -0.025604 -0.423981   \n",
       "3 -0.337208 -0.362022 -0.418905 -0.302863 -0.709311 -0.654800 -0.936128   \n",
       "4 -0.271884 -0.246689 -0.342115  0.355511  0.419843  0.627424 -0.426147   \n",
       "\n",
       "         7         8         9         10        11        12        13  \\\n",
       "0  0.112838  0.175418  0.619345  0.525386  0.484159 -0.094562  0.512911   \n",
       "1 -0.866828 -0.608503 -0.548601 -0.591583 -0.533673 -0.887829 -0.736844   \n",
       "2 -0.344076 -0.340302 -0.003974  0.054770 -0.124431  0.310022 -0.440357   \n",
       "3 -0.924994 -0.637545 -0.498901 -0.523373 -0.526817 -0.371919 -0.437479   \n",
       "4 -0.479714 -0.353943 -0.124082 -0.132881 -0.213029  1.032677  1.095810   \n",
       "\n",
       "         14  \n",
       "0  0.560244  \n",
       "1 -0.928004  \n",
       "2  0.522178  \n",
       "3 -0.467856  \n",
       "4  1.434251  "
      ]
     },
     "execution_count": 263,
     "metadata": {},
     "output_type": "execute_result"
    }
   ],
   "source": [
    "#After scaling the resulting data structure will be a numpy array. So we are converting it back to dataframe\n",
    "X = pd.DataFrame(X_scaled)\n",
    "X.head()"
   ]
  },
  {
   "cell_type": "code",
   "execution_count": 264,
   "id": "f4ae3fbc",
   "metadata": {},
   "outputs": [
    {
     "data": {
      "text/plain": [
       "array([[ 0.2745563 ,  0.28035634,  0.27706043,  0.22547794,  0.26098183,\n",
       "         0.28183365,  0.23906981,  0.24188835,  0.2451084 ,  0.28094621,\n",
       "         0.2865458 ,  0.27827618,  0.19387532,  0.22142846,  0.26464518],\n",
       "       [ 0.16895527,  0.13823462,  0.19892897, -0.37989288, -0.25080542,\n",
       "        -0.11353362,  0.24037202,  0.19832609,  0.27125536,  0.1429729 ,\n",
       "         0.10461737,  0.17825802, -0.47786231, -0.41315747, -0.24445013],\n",
       "       [-0.28475842, -0.25261484, -0.20473515,  0.21123832,  0.16177476,\n",
       "         0.02898548,  0.46963188,  0.48805531,  0.3620105 , -0.24591177,\n",
       "        -0.21213265, -0.17571233,  0.01275653, -0.01142635, -0.12289988],\n",
       "       [-0.11323262, -0.13502787, -0.08958351, -0.26427911, -0.37694837,\n",
       "        -0.51166451,  0.08099643,  0.07931378,  0.20334405,  0.15189397,\n",
       "         0.14897852,  0.21215838,  0.51186737,  0.28405353,  0.00380405],\n",
       "       [-0.0275812 , -0.04973979,  0.05203762, -0.51972336,  0.44613745,\n",
       "        -0.05241431, -0.00351396, -0.07942845,  0.10993128, -0.06672377,\n",
       "        -0.09487819,  0.00651194, -0.32978411,  0.61582661, -0.047504  ]])"
      ]
     },
     "execution_count": 264,
     "metadata": {},
     "output_type": "execute_result"
    }
   ],
   "source": [
    "from sklearn.decomposition import PCA\n",
    "\n",
    "# Apply PCA to the scaled independent variables\n",
    "pca = PCA(n_components=5)\n",
    "pca.fit(X)\n",
    "\n",
    "# Get the principal components\n",
    "components = pca.components_\n",
    "\n",
    "# Get the explained variance ratios\n",
    "explained_variance_ratios = pca.explained_variance_ratio_\n",
    "components"
   ]
  },
  {
   "cell_type": "code",
   "execution_count": 265,
   "id": "f924f384",
   "metadata": {},
   "outputs": [
    {
     "data": {
      "text/plain": [
       "array([0.74243076, 0.14078449, 0.06702136, 0.0164154 , 0.01171655])"
      ]
     },
     "execution_count": 265,
     "metadata": {},
     "output_type": "execute_result"
    }
   ],
   "source": [
    "explained_variance_ratios"
   ]
  },
  {
   "cell_type": "code",
   "execution_count": 266,
   "id": "7d2b0524",
   "metadata": {},
   "outputs": [],
   "source": [
    "X_transformed =  pca.transform(X_scaled)#Transforming using PCA\n",
    "\n",
    "X_transformed = pd.DataFrame(X_transformed)"
   ]
  },
  {
   "cell_type": "code",
   "execution_count": 267,
   "id": "c3946bf0",
   "metadata": {},
   "outputs": [
    {
     "data": {
      "text/plain": [
       "(569, 5)"
      ]
     },
     "execution_count": 267,
     "metadata": {},
     "output_type": "execute_result"
    }
   ],
   "source": [
    "X_transformed.shape"
   ]
  },
  {
   "cell_type": "code",
   "execution_count": 268,
   "id": "98ca7a5b",
   "metadata": {},
   "outputs": [],
   "source": [
    "from sklearn.model_selection import train_test_split"
   ]
  },
  {
   "cell_type": "code",
   "execution_count": 269,
   "id": "e00c768c",
   "metadata": {},
   "outputs": [],
   "source": [
    "X_train, X_test, y_train, y_test = train_test_split(X_transformed, y, test_size=0.2, random_state=42)\n"
   ]
  },
  {
   "cell_type": "code",
   "execution_count": 270,
   "id": "049b3974",
   "metadata": {},
   "outputs": [
    {
     "data": {
      "text/plain": [
       "GaussianNB()"
      ]
     },
     "execution_count": 270,
     "metadata": {},
     "output_type": "execute_result"
    }
   ],
   "source": [
    "from sklearn.naive_bayes import GaussianNB\n",
    "\n",
    "# Train a Naive Bayes classifier on the training set\n",
    "model = GaussianNB()\n",
    "model.fit(X_train, y_train)\n"
   ]
  },
  {
   "cell_type": "code",
   "execution_count": 271,
   "id": "29c9bea8",
   "metadata": {},
   "outputs": [],
   "source": [
    "predictions = model.predict(X_test)"
   ]
  },
  {
   "cell_type": "code",
   "execution_count": 272,
   "id": "8cfbcf6d",
   "metadata": {},
   "outputs": [
    {
     "name": "stdout",
     "output_type": "stream",
     "text": [
      "Accuracy: 0.8947368421052632\n"
     ]
    }
   ],
   "source": [
    "from sklearn.metrics import accuracy_score, precision_score, recall_score, f1_score\n",
    "\n",
    "# Calculate accuracy\n",
    "accuracy = accuracy_score(y_test, predictions)\n",
    "\n",
    "# Calculate precision\n",
    "precision = precision_score(y_test, predictions)\n",
    "\n",
    "# Calculate recall\n",
    "recall = recall_score(y_test, predictions)\n",
    "\n",
    "# Calculate F1 score\n",
    "f1 = f1_score(y_test, predictions)\n",
    "\n",
    "# Display the evaluation metrics\n",
    "print('Accuracy:', accuracy)\n",
    "\n"
   ]
  }
 ],
 "metadata": {
  "kernelspec": {
   "display_name": "Python 3 (ipykernel)",
   "language": "python",
   "name": "python3"
  },
  "language_info": {
   "codemirror_mode": {
    "name": "ipython",
    "version": 3
   },
   "file_extension": ".py",
   "mimetype": "text/x-python",
   "name": "python",
   "nbconvert_exporter": "python",
   "pygments_lexer": "ipython3",
   "version": "3.9.7"
  }
 },
 "nbformat": 4,
 "nbformat_minor": 5
}
